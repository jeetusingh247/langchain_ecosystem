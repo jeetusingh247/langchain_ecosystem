{
 "cells": [
  {
   "cell_type": "markdown",
   "id": "fe9dd3df",
   "metadata": {},
   "source": [
    "### Python Example"
   ]
  },
  {
   "cell_type": "code",
   "execution_count": 3,
   "id": "9d52a0b8",
   "metadata": {},
   "outputs": [
    {
     "name": "stdout",
     "output_type": "stream",
     "text": [
      "hello world\n"
     ]
    }
   ],
   "source": [
    "print(\"hello world\")"
   ]
  },
  {
   "cell_type": "markdown",
   "id": "b0ac8eda",
   "metadata": {},
   "source": [
    "###### Step 1 : Install Suitable Jupyter kernel extension\n",
    "###### Step 2 : Select Venv named venv in python/venv\n",
    "###### Step 3 : To run the cell install ipykernel, to run cell shift + enter"
   ]
  }
 ],
 "metadata": {
  "kernelspec": {
   "display_name": "venv",
   "language": "python",
   "name": "python3"
  },
  "language_info": {
   "codemirror_mode": {
    "name": "ipython",
    "version": 3
   },
   "file_extension": ".py",
   "mimetype": "text/x-python",
   "name": "python",
   "nbconvert_exporter": "python",
   "pygments_lexer": "ipython3",
   "version": "3.12.0"
  }
 },
 "nbformat": 4,
 "nbformat_minor": 5
}
